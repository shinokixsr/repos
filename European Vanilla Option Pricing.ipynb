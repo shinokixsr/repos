{
    "cells": [
        {
            "metadata": {
                "collapsed": true
            },
            "cell_type": "markdown",
            "source": "# European Vanilla Option Pricing and Sensitivities"
        },
        {
            "metadata": {},
            "cell_type": "markdown",
            "source": "## Introduction"
        },
        {
            "metadata": {},
            "cell_type": "markdown",
            "source": "An option is defined as a financial instrument that gives its holder the right, but not the obligation, to buy (call option) or sell (put option) a predefined underlying security at a set exercise price at a specified maturity date. Options are a form of derivative security, as they derive their values from their underlying asset. There are several types of options, amongst which European options can only exercised at the maturity\ndate. Other type of options include American options Bermudan options and Barrier options etc."
        },
        {
            "metadata": {},
            "cell_type": "markdown",
            "source": "we introduce the type of options in section 2.1 briefly. Then we explain the type\nof underlying asset price diffusions in section 2.2 along with analytical solution of geometric\nBrownian motion and Ornstein Uhlenbeck process. We then introduce the Monte Carlo methods\nfor pricing European, Asian and Barrier Options in section 2.3. Finally, the Black-Scholes\nframework and analytical formulas for pricing call and put versions of European and (downand-out and up-and-out) Barrier options are explained in section 2.4."
        },
        {
            "metadata": {},
            "cell_type": "code",
            "source": "",
            "execution_count": null,
            "outputs": []
        }
    ],
    "metadata": {
        "kernelspec": {
            "name": "python3",
            "display_name": "Python 3.6",
            "language": "python"
        },
        "language_info": {
            "name": "python",
            "version": "3.6.8",
            "mimetype": "text/x-python",
            "codemirror_mode": {
                "name": "ipython",
                "version": 3
            },
            "pygments_lexer": "ipython3",
            "nbconvert_exporter": "python",
            "file_extension": ".py"
        }
    },
    "nbformat": 4,
    "nbformat_minor": 1
}